{
 "cells": [
  {
   "cell_type": "markdown",
   "metadata": {},
   "source": [
    "# Design patterns"
   ]
  },
  {
   "cell_type": "markdown",
   "metadata": {},
   "source": [
    "## Abstract Factory"
   ]
  },
  {
   "cell_type": "markdown",
   "metadata": {},
   "source": [
    "Summary: The Abstract Factory pattern is useful for creating objects in a system that are related to a common theme or purpose. It allows the client code to be decoupled from the concrete implementations of the objects, making it easier to change the implementation of the objects without affecting the client code. Additionally, it can make it easier to create new implementations of the objects, as the interface for creating objects is already defined in the abstract factory.\n",
    "\n",
    "Key Concepts\n",
    "- Abstract Factory: An interface that declares methods for creating abstract products.\n",
    "- Concrete Factory: A class that implements the Abstract Factory interface to create concrete products.\n",
    "- Abstract Product: An interface for a type of product.\n",
    "- Concrete Product: A class that implements the Abstract Product interface.\n",
    "\n",
    "Let's consider an example where we want to create a family of related products: Chairs and Tables. We will have two different styles of furniture: Victorian and Modern."
   ]
  },
  {
   "cell_type": "markdown",
   "metadata": {},
   "source": [
    "### Abstract factory interface"
   ]
  },
  {
   "cell_type": "code",
   "execution_count": null,
   "metadata": {},
   "outputs": [],
   "source": [
    "class FurnitureFactory:\n",
    "    def create_chair(self):\n",
    "        pass\n",
    "    \n",
    "    def create_table(self):\n",
    "        pass"
   ]
  },
  {
   "cell_type": "markdown",
   "metadata": {},
   "source": [
    "### Concrete factories"
   ]
  },
  {
   "cell_type": "code",
   "execution_count": null,
   "metadata": {},
   "outputs": [],
   "source": [
    "class VictorianFurnitureFactory(FurnitureFactory):\n",
    "    def create_chair(self):\n",
    "        return VictorianChair()\n",
    "\n",
    "    def create_table(self):\n",
    "        return VictorianTable()\n",
    "\n",
    "\n",
    "class ModernFurnitureFactory(FurnitureFactory):\n",
    "    def create_chair(self):\n",
    "        return ModernChair()\n",
    "\n",
    "    def create_table(self):\n",
    "        return ModernTable()"
   ]
  },
  {
   "cell_type": "markdown",
   "metadata": {},
   "source": [
    "### Abstract Products"
   ]
  },
  {
   "cell_type": "code",
   "execution_count": null,
   "metadata": {},
   "outputs": [],
   "source": [
    "class Chair:\n",
    "    def sit_on(self):\n",
    "        pass\n",
    "\n",
    "class Table:\n",
    "    def use(self):\n",
    "        pass"
   ]
  },
  {
   "cell_type": "markdown",
   "metadata": {},
   "source": [
    "### Concrete products"
   ]
  },
  {
   "cell_type": "code",
   "execution_count": null,
   "metadata": {},
   "outputs": [],
   "source": [
    "class VictorianChair(Chair):\n",
    "    def sit_on(self):\n",
    "        return \"Sitting on a Victorian Chair\"\n",
    "\n",
    "\n",
    "class VictorianTable(Table):\n",
    "    def use(self):\n",
    "        return \"Using a Victorian Table\"\n",
    "\n",
    "\n",
    "class ModernChair(Chair):\n",
    "    def sit_on(self):\n",
    "        return \"Sitting on a Modern Chair\"\n",
    "\n",
    "\n",
    "class ModernTable(Table):\n",
    "    def use(self):\n",
    "        return \"Using a Modern Table\""
   ]
  },
  {
   "cell_type": "markdown",
   "metadata": {},
   "source": [
    "### Client code"
   ]
  },
  {
   "cell_type": "markdown",
   "metadata": {},
   "source": [
    "The client_code function takes a FurnitureFactory object and uses it to create a chair and a table.\n",
    "\n",
    "Depending on which type of factory is passed (Victorian or Modern), the client code will work with a family of related products.\n",
    "\n",
    "The Abstract Factory pattern ensures that the client code can work with any product family (Victorian or Modern) without knowing the specifics of the product's concrete classes"
   ]
  },
  {
   "cell_type": "code",
   "execution_count": null,
   "metadata": {},
   "outputs": [],
   "source": [
    "def client_code(factory: FurnitureFactory):\n",
    "    chair = factory.create_chair()\n",
    "    table = factory.create_table()\n",
    "    print(chair.sit_on())\n",
    "    print(table.use())\n",
    "\n",
    "\n",
    "victorian_factory = VictorianFurnitureFactory()\n",
    "modern_factory = ModernFurnitureFactory()\n",
    "\n",
    "print(\"Victorian Furniture:\")\n",
    "client_code(victorian_factory)\n",
    "\n",
    "print(\"\\nModern Furniture:\")\n",
    "client_code(modern_factory)"
   ]
  },
  {
   "cell_type": "markdown",
   "metadata": {},
   "source": [
    "### Advantages/disadvantages of Abstract Factory"
   ]
  },
  {
   "cell_type": "markdown",
   "metadata": {},
   "source": [
    "Advantages:\n",
    "\n",
    "1. Abstraction: The Abstract Factory pattern provides an abstraction layer between the client and the concrete factories. This makes it possible to change the concrete factories without affecting the client code.\n",
    "2. Flexibility: The Abstract Factory pattern provides great flexibility, as it allows you to create different products for different platforms or contexts, such as desktop, web, or mobile applications.\n",
    "3. Improved Reusability: The Abstract Factory pattern can improve reusability, as you can reuse product families across different applications.\n",
    "4. Better Support for Interface-based Programming: The Abstract Factory pattern provides better support for interface-based programming, as it separates the implementation details from the interface definition, making it easier to implement new products and extend existing ones.\n",
    "5. Simplified Code: The Abstract Factory pattern can simplify code by reducing the amount of conditional logic required to create products, as the client only needs to know the abstract factory, and not the individual concrete factories.\n",
    "\n",
    "Disadvantages:\n",
    "\n",
    "1. Increased Complexity: The Abstract Factory pattern can add complexity to an application, as it requires creating multiple classes and objects to manage the creation of products.\n",
    "2. Overhead: The Abstract Factory pattern can add overhead to an application, especially if the application requires multiple product families or large numbers of products.\n",
    "3. Debugging: Debugging an Abstract Factory can be challenging, as it requires understanding the relationships between the abstract factory, concrete factories, and products."
   ]
  }
 ],
 "metadata": {
  "kernelspec": {
   "display_name": "splink-bxsLLt4m",
   "language": "python",
   "name": "python3"
  },
  "language_info": {
   "name": "python",
   "version": "3.9.6"
  }
 },
 "nbformat": 4,
 "nbformat_minor": 2
}
