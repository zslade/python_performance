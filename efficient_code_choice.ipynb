{
 "cells": [
  {
   "cell_type": "markdown",
   "metadata": {},
   "source": [
    "# Writing efficient Python code"
   ]
  },
  {
   "cell_type": "markdown",
   "metadata": {},
   "source": [
    "This notebook is about choosing efficient python code for the solution being developed. Efficient code can help you spend more time discovering actionable insights, rather than waiting for slow code to run.\n",
    "\n",
    "A performance profiler is a valuable tool for identifying hot spots in existing code, but it won’t tell you how to write efficient code from the start. It’s often the choice of the underlying algorithm or data structure that can make the biggest difference. Even when you throw the most advanced hardware available on the market at some computational problem, an algorithm with a poor time or space complexity may never finish in a reasonable time.\n",
    "\n",
    "Note: Pythonic code is efficient code. So writing in a more Pythonic way will speed up your code and should also increase readability."
   ]
  },
  {
   "cell_type": "markdown",
   "metadata": {},
   "source": [
    "## Defining efficient"
   ]
  },
  {
   "cell_type": "markdown",
   "metadata": {},
   "source": [
    "- minimal completion time (fast runtime)\n",
    "- minimal resource consumption (small memory footprint)"
   ]
  },
  {
   "cell_type": "markdown",
   "metadata": {},
   "source": [
    "Default to using a built-in solution if one exists because they ahve been optimized, rather than developing our own. Built-in types: list, tuple, set, dict, etc. Built-in functions: print(), range(), map(), zip(), etc. Built-in modules: os, sys, maths, etc."
   ]
  },
  {
   "cell_type": "markdown",
   "metadata": {},
   "source": [
    "Numpy\n",
    "\n",
    "Numpy arrays are homegensious - only one data type and type coercion is applied (where possible) to impose this. A beenfit of this is that the overhead of type checking can be avoided.\n",
    "\n",
    "Numpy array supports broadacasting.\n",
    "Numpy arrays vectorize operations so that they are performed on each elemt at the same time."
   ]
  },
  {
   "cell_type": "markdown",
   "metadata": {},
   "source": [
    "\n",
    "list comprehension vs for loop vs generator - why they are quicker under the hood\n",
    "\n",
    "Using vectored operations instead of using for loops"
   ]
  }
 ],
 "metadata": {
  "kernelspec": {
   "display_name": "splink-bxsLLt4m",
   "language": "python",
   "name": "python3"
  },
  "language_info": {
   "codemirror_mode": {
    "name": "ipython",
    "version": 3
   },
   "file_extension": ".py",
   "mimetype": "text/x-python",
   "name": "python",
   "nbconvert_exporter": "python",
   "pygments_lexer": "ipython3",
   "version": "3.9.6"
  }
 },
 "nbformat": 4,
 "nbformat_minor": 2
}
